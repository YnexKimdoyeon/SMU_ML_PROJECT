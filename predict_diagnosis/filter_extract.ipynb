{
 "cells": [
  {
   "cell_type": "code",
   "execution_count": 1,
   "id": "07ba0910",
   "metadata": {},
   "outputs": [],
   "source": [
    "import pandas as pd"
   ]
  },
  {
   "cell_type": "code",
   "execution_count": null,
   "id": "3e865824",
   "metadata": {},
   "outputs": [],
   "source": [
    "# CSV 파일 불러오기\n",
    "df = pd.read_csv(\"data/국민건강보험공단_의약품처방정보_2022_1(수정).csv\", encoding='cp949')"
   ]
  },
  {
   "cell_type": "code",
   "execution_count": null,
   "id": "0dc9f60c",
   "metadata": {},
   "outputs": [],
   "source": [
    "# 첫 글자가 숫자인 행 제거\n",
    "df_filtered = df[~df['약품일반성분명코드(ATC코드)'].astype(str).str[0].str.isnumeric()]\n",
    "\n",
    "# 필터링된 결과 저장\n",
    "df_filtered.to_csv(\"data/filtered_output.csv\", index=False, encoding='utf-8-sig')"
   ]
  }
 ],
 "metadata": {
  "kernelspec": {
   "display_name": "Python 3",
   "language": "python",
   "name": "python3"
  },
  "language_info": {
   "codemirror_mode": {
    "name": "ipython",
    "version": 3
   },
   "file_extension": ".py",
   "mimetype": "text/x-python",
   "name": "python",
   "nbconvert_exporter": "python",
   "pygments_lexer": "ipython3",
   "version": "3.12.5"
  }
 },
 "nbformat": 4,
 "nbformat_minor": 5
}
