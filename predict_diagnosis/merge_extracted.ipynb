{
 "cells": [
  {
   "cell_type": "code",
   "execution_count": 1,
   "id": "07ba0910",
   "metadata": {},
   "outputs": [],
   "source": [
    "import pandas as pd"
   ]
  },
  {
   "cell_type": "code",
   "execution_count": 5,
   "id": "3e865824",
   "metadata": {},
   "outputs": [],
   "source": [
    "# 각 파일을 개별적으로 불러옴\n",
    "df1 = pd.read_csv(\"data/filtered_output1.csv\", encoding='utf-8-sig')\n",
    "df2 = pd.read_csv(\"data/filtered_output2.csv\", encoding='utf-8-sig')\n",
    "df3 = pd.read_csv(\"data/filtered_output3.csv\", encoding='utf-8-sig')"
   ]
  },
  {
   "cell_type": "code",
   "execution_count": null,
   "id": "0dc9f60c",
   "metadata": {},
   "outputs": [],
   "source": [
    "# 세 개의 DataFrame을 세로로 병합\n",
    "merged_df = pd.concat([df1, df2, df3], ignore_index=True)\n",
    "\n",
    "# 병합된 결과 저장\n",
    "merged_df.to_csv(\"data/merged_filtered_output.csv\", index=False, encoding='utf-8-sig')"
   ]
  }
 ],
 "metadata": {
  "kernelspec": {
   "display_name": "Python 3",
   "language": "python",
   "name": "python3"
  },
  "language_info": {
   "codemirror_mode": {
    "name": "ipython",
    "version": 3
   },
   "file_extension": ".py",
   "mimetype": "text/x-python",
   "name": "python",
   "nbconvert_exporter": "python",
   "pygments_lexer": "ipython3",
   "version": "3.12.5"
  }
 },
 "nbformat": 4,
 "nbformat_minor": 5
}
