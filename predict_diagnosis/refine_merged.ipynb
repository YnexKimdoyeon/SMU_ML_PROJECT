{
 "cells": [
  {
   "cell_type": "code",
   "execution_count": 1,
   "id": "07ba0910",
   "metadata": {},
   "outputs": [],
   "source": [
    "import pandas as pd"
   ]
  },
  {
   "cell_type": "code",
   "execution_count": null,
   "id": "3e865824",
   "metadata": {},
   "outputs": [],
   "source": [
    "# 각 파일을 개별적으로 불러옴\n",
    "df = pd.read_csv(\"data/merged_filtered_output.csv\", encoding='utf-8-sig')"
   ]
  },
  {
   "cell_type": "code",
   "execution_count": 3,
   "id": "0dc9f60c",
   "metadata": {},
   "outputs": [
    {
     "data": {
      "text/html": [
       "<div>\n",
       "<style scoped>\n",
       "    .dataframe tbody tr th:only-of-type {\n",
       "        vertical-align: middle;\n",
       "    }\n",
       "\n",
       "    .dataframe tbody tr th {\n",
       "        vertical-align: top;\n",
       "    }\n",
       "\n",
       "    .dataframe thead th {\n",
       "        text-align: right;\n",
       "    }\n",
       "</style>\n",
       "<table border=\"1\" class=\"dataframe\">\n",
       "  <thead>\n",
       "    <tr style=\"text-align: right;\">\n",
       "      <th></th>\n",
       "      <th>기준년도</th>\n",
       "      <th>가입자일련번호</th>\n",
       "      <th>처방내역일련번호</th>\n",
       "      <th>약품일련번호</th>\n",
       "      <th>성별코드</th>\n",
       "      <th>연령대코드(5세단위)</th>\n",
       "      <th>시도코드</th>\n",
       "      <th>요양개시일자</th>\n",
       "      <th>약품일반성분명코드(ATC코드)</th>\n",
       "      <th>1회투약량</th>\n",
       "      <th>1일투약량</th>\n",
       "      <th>총투여일수</th>\n",
       "    </tr>\n",
       "  </thead>\n",
       "  <tbody>\n",
       "    <tr>\n",
       "      <th>0</th>\n",
       "      <td>2022</td>\n",
       "      <td>580791</td>\n",
       "      <td>5550863</td>\n",
       "      <td>1</td>\n",
       "      <td>2</td>\n",
       "      <td>13</td>\n",
       "      <td>41</td>\n",
       "      <td>2022-12-02</td>\n",
       "      <td>M01AE</td>\n",
       "      <td>1.0</td>\n",
       "      <td>3</td>\n",
       "      <td>3</td>\n",
       "    </tr>\n",
       "    <tr>\n",
       "      <th>1</th>\n",
       "      <td>2022</td>\n",
       "      <td>358200</td>\n",
       "      <td>10485180</td>\n",
       "      <td>1</td>\n",
       "      <td>2</td>\n",
       "      <td>13</td>\n",
       "      <td>41</td>\n",
       "      <td>2022-05-18</td>\n",
       "      <td>M01AE</td>\n",
       "      <td>1.0</td>\n",
       "      <td>3</td>\n",
       "      <td>3</td>\n",
       "    </tr>\n",
       "    <tr>\n",
       "      <th>2</th>\n",
       "      <td>2022</td>\n",
       "      <td>378406</td>\n",
       "      <td>11535208</td>\n",
       "      <td>1</td>\n",
       "      <td>2</td>\n",
       "      <td>13</td>\n",
       "      <td>41</td>\n",
       "      <td>2022-01-24</td>\n",
       "      <td>M01AE</td>\n",
       "      <td>1.0</td>\n",
       "      <td>3</td>\n",
       "      <td>3</td>\n",
       "    </tr>\n",
       "    <tr>\n",
       "      <th>3</th>\n",
       "      <td>2022</td>\n",
       "      <td>442973</td>\n",
       "      <td>12305408</td>\n",
       "      <td>1</td>\n",
       "      <td>2</td>\n",
       "      <td>13</td>\n",
       "      <td>41</td>\n",
       "      <td>2022-05-06</td>\n",
       "      <td>M01AE</td>\n",
       "      <td>1.0</td>\n",
       "      <td>3</td>\n",
       "      <td>3</td>\n",
       "    </tr>\n",
       "    <tr>\n",
       "      <th>4</th>\n",
       "      <td>2022</td>\n",
       "      <td>500568</td>\n",
       "      <td>1737705</td>\n",
       "      <td>1</td>\n",
       "      <td>2</td>\n",
       "      <td>13</td>\n",
       "      <td>41</td>\n",
       "      <td>2022-12-19</td>\n",
       "      <td>M01AE</td>\n",
       "      <td>1.0</td>\n",
       "      <td>3</td>\n",
       "      <td>3</td>\n",
       "    </tr>\n",
       "  </tbody>\n",
       "</table>\n",
       "</div>"
      ],
      "text/plain": [
       "   기준년도  가입자일련번호  처방내역일련번호  약품일련번호  성별코드  연령대코드(5세단위)  시도코드      요양개시일자  \\\n",
       "0  2022   580791   5550863       1     2           13    41  2022-12-02   \n",
       "1  2022   358200  10485180       1     2           13    41  2022-05-18   \n",
       "2  2022   378406  11535208       1     2           13    41  2022-01-24   \n",
       "3  2022   442973  12305408       1     2           13    41  2022-05-06   \n",
       "4  2022   500568   1737705       1     2           13    41  2022-12-19   \n",
       "\n",
       "  약품일반성분명코드(ATC코드)  1회투약량  1일투약량  총투여일수  \n",
       "0            M01AE    1.0      3      3  \n",
       "1            M01AE    1.0      3      3  \n",
       "2            M01AE    1.0      3      3  \n",
       "3            M01AE    1.0      3      3  \n",
       "4            M01AE    1.0      3      3  "
      ]
     },
     "execution_count": 3,
     "metadata": {},
     "output_type": "execute_result"
    }
   ],
   "source": [
    "df.head()"
   ]
  },
  {
   "cell_type": "code",
   "execution_count": null,
   "id": "fcd5a848",
   "metadata": {},
   "outputs": [
    {
     "data": {
      "text/html": [
       "<div>\n",
       "<style scoped>\n",
       "    .dataframe tbody tr th:only-of-type {\n",
       "        vertical-align: middle;\n",
       "    }\n",
       "\n",
       "    .dataframe tbody tr th {\n",
       "        vertical-align: top;\n",
       "    }\n",
       "\n",
       "    .dataframe thead th {\n",
       "        text-align: right;\n",
       "    }\n",
       "</style>\n",
       "<table border=\"1\" class=\"dataframe\">\n",
       "  <thead>\n",
       "    <tr style=\"text-align: right;\">\n",
       "      <th></th>\n",
       "      <th>처방내역일련번호</th>\n",
       "      <th>약품일반성분명코드(ATC코드)</th>\n",
       "    </tr>\n",
       "  </thead>\n",
       "  <tbody>\n",
       "    <tr>\n",
       "      <th>0</th>\n",
       "      <td>5550863</td>\n",
       "      <td>M01AE</td>\n",
       "    </tr>\n",
       "    <tr>\n",
       "      <th>1</th>\n",
       "      <td>10485180</td>\n",
       "      <td>M01AE</td>\n",
       "    </tr>\n",
       "    <tr>\n",
       "      <th>2</th>\n",
       "      <td>11535208</td>\n",
       "      <td>M01AE</td>\n",
       "    </tr>\n",
       "    <tr>\n",
       "      <th>3</th>\n",
       "      <td>12305408</td>\n",
       "      <td>M01AE</td>\n",
       "    </tr>\n",
       "    <tr>\n",
       "      <th>4</th>\n",
       "      <td>1737705</td>\n",
       "      <td>M01AE</td>\n",
       "    </tr>\n",
       "  </tbody>\n",
       "</table>\n",
       "</div>"
      ],
      "text/plain": [
       "   처방내역일련번호 약품일반성분명코드(ATC코드)\n",
       "0   5550863            M01AE\n",
       "1  10485180            M01AE\n",
       "2  11535208            M01AE\n",
       "3  12305408            M01AE\n",
       "4   1737705            M01AE"
      ]
     },
     "execution_count": 4,
     "metadata": {},
     "output_type": "execute_result"
    }
   ],
   "source": [
    "df = df[['처방내역일련번호', '약품일반성분명코드(ATC코드)']]"
   ]
  },
  {
   "cell_type": "code",
   "execution_count": 7,
   "id": "80db8a83",
   "metadata": {},
   "outputs": [],
   "source": [
    "df = df.groupby('처방내역일련번호')['약품일반성분명코드(ATC코드)'].apply(list).reset_index()"
   ]
  },
  {
   "cell_type": "code",
   "execution_count": 13,
   "id": "c4ddadda",
   "metadata": {},
   "outputs": [
    {
     "data": {
      "text/html": [
       "<div>\n",
       "<style scoped>\n",
       "    .dataframe tbody tr th:only-of-type {\n",
       "        vertical-align: middle;\n",
       "    }\n",
       "\n",
       "    .dataframe tbody tr th {\n",
       "        vertical-align: top;\n",
       "    }\n",
       "\n",
       "    .dataframe thead th {\n",
       "        text-align: right;\n",
       "    }\n",
       "</style>\n",
       "<table border=\"1\" class=\"dataframe\">\n",
       "  <thead>\n",
       "    <tr style=\"text-align: right;\">\n",
       "      <th></th>\n",
       "      <th>약품일반성분명코드(ATC코드)</th>\n",
       "    </tr>\n",
       "  </thead>\n",
       "  <tbody>\n",
       "    <tr>\n",
       "      <th>0</th>\n",
       "      <td>[D07AC]</td>\n",
       "    </tr>\n",
       "    <tr>\n",
       "      <th>1</th>\n",
       "      <td>[M01AE, R05CA]</td>\n",
       "    </tr>\n",
       "    <tr>\n",
       "      <th>2</th>\n",
       "      <td>[M01AE]</td>\n",
       "    </tr>\n",
       "    <tr>\n",
       "      <th>3</th>\n",
       "      <td>[M01AE, J01D]</td>\n",
       "    </tr>\n",
       "    <tr>\n",
       "      <th>4</th>\n",
       "      <td>[S, D06AX09, D07AC]</td>\n",
       "    </tr>\n",
       "  </tbody>\n",
       "</table>\n",
       "</div>"
      ],
      "text/plain": [
       "      약품일반성분명코드(ATC코드)\n",
       "0              [D07AC]\n",
       "1       [M01AE, R05CA]\n",
       "2              [M01AE]\n",
       "3        [M01AE, J01D]\n",
       "4  [S, D06AX09, D07AC]"
      ]
     },
     "execution_count": 13,
     "metadata": {},
     "output_type": "execute_result"
    }
   ],
   "source": [
    "df.head()"
   ]
  },
  {
   "cell_type": "code",
   "execution_count": 23,
   "id": "49aed437",
   "metadata": {},
   "outputs": [],
   "source": [
    "#'처방내역일련번호' 열 제거거\n",
    "df = df.drop(columns=['번호'])"
   ]
  },
  {
   "cell_type": "code",
   "execution_count": 25,
   "id": "eadfbef2",
   "metadata": {},
   "outputs": [],
   "source": [
    "df = df.sample(n=200000, random_state=42).reset_index(drop=True)"
   ]
  },
  {
   "cell_type": "code",
   "execution_count": 26,
   "id": "ac98dfb5",
   "metadata": {},
   "outputs": [],
   "source": [
    "df.insert(0, '번호', range(1, len(df) + 1))"
   ]
  },
  {
   "cell_type": "code",
   "execution_count": 27,
   "id": "a315391b",
   "metadata": {},
   "outputs": [
    {
     "name": "stdout",
     "output_type": "stream",
     "text": [
      "<class 'pandas.core.frame.DataFrame'>\n",
      "RangeIndex: 200000 entries, 0 to 199999\n",
      "Data columns (total 2 columns):\n",
      " #   Column            Non-Null Count   Dtype \n",
      "---  ------            --------------   ----- \n",
      " 0   번호                200000 non-null  int64 \n",
      " 1   약품일반성분명코드(ATC코드)  200000 non-null  object\n",
      "dtypes: int64(1), object(1)\n",
      "memory usage: 3.1+ MB\n"
     ]
    }
   ],
   "source": [
    "df.info()"
   ]
  },
  {
   "cell_type": "code",
   "execution_count": null,
   "id": "bf5eed64",
   "metadata": {},
   "outputs": [],
   "source": [
    "# 병합된 결과 저장\n",
    "df.to_csv(\"data/refined_data.csv\", index=False, encoding='utf-8-sig')"
   ]
  }
 ],
 "metadata": {
  "kernelspec": {
   "display_name": "Python 3",
   "language": "python",
   "name": "python3"
  },
  "language_info": {
   "codemirror_mode": {
    "name": "ipython",
    "version": 3
   },
   "file_extension": ".py",
   "mimetype": "text/x-python",
   "name": "python",
   "nbconvert_exporter": "python",
   "pygments_lexer": "ipython3",
   "version": "3.12.5"
  }
 },
 "nbformat": 4,
 "nbformat_minor": 5
}
